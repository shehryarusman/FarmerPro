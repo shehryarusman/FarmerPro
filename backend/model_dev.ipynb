{
  "nbformat": 4,
  "nbformat_minor": 0,
  "metadata": {
    "colab": {
      "provenance": []
    },
    "kernelspec": {
      "name": "python3",
      "display_name": "Python 3"
    },
    "language_info": {
      "name": "python"
    }
  },
  "cells": [
    {
      "cell_type": "code",
      "source": [
        "import numpy as np\n",
        "import matplotlib.pyplot as plt\n",
        "import tensorflow as tf\n",
        "from tensorflow import keras\n",
        "import cv2"
      ],
      "metadata": {
        "id": "qSFvD-ui11c8"
      },
      "execution_count": 75,
      "outputs": []
    },
    {
      "cell_type": "code",
      "source": [
        "!tar -xvf /content/disease-classification_1.tar.gz"
      ],
      "metadata": {
        "colab": {
          "base_uri": "https://localhost:8080/"
        },
        "id": "z4Tvo5MqmUKf",
        "outputId": "2f090b70-9ea4-464d-b6c1-b7a989ef6c80"
      },
      "execution_count": 65,
      "outputs": [
        {
          "output_type": "stream",
          "name": "stdout",
          "text": [
            "./\n",
            "./.DS_Store\n",
            "./._.DS_Store\n",
            "./variables/\n",
            "./variables/variables.data-00000-of-00001\n",
            "./variables/._variables.data-00000-of-00001\n",
            "./variables/variables.index\n",
            "./variables/._variables.index\n",
            "./._variables\n",
            "./saved_model.pb\n",
            "./._saved_model.pb\n",
            "./assets/\n",
            "./._assets\n"
          ]
        }
      ]
    },
    {
      "cell_type": "code",
      "source": [
        "!ls /content"
      ],
      "metadata": {
        "colab": {
          "base_uri": "https://localhost:8080/"
        },
        "id": "IsNTsw7ymYTE",
        "outputId": "e362f01c-cb9f-407d-af98-d3054ccce36c"
      },
      "execution_count": 66,
      "outputs": [
        {
          "output_type": "stream",
          "name": "stdout",
          "text": [
            "assets\t\t\t      disease-classification_1.tar.gz  saved_model.pb\n",
            "disease-classification_1.tar  sample_data\t\t       variables\n"
          ]
        }
      ]
    },
    {
      "cell_type": "code",
      "source": [
        "!ls /content/extracted_directory_name\n"
      ],
      "metadata": {
        "colab": {
          "base_uri": "https://localhost:8080/"
        },
        "id": "Q0-MH8ejmcj_",
        "outputId": "f85e69cb-0584-4430-9214-bf073bddf0b0"
      },
      "execution_count": 67,
      "outputs": [
        {
          "output_type": "stream",
          "name": "stdout",
          "text": [
            "ls: cannot access '/content/extracted_directory_name': No such file or directory\n"
          ]
        }
      ]
    },
    {
      "cell_type": "code",
      "source": [
        "model = tf.saved_model.load('/content')"
      ],
      "metadata": {
        "id": "XlTmdL5mnkgT"
      },
      "execution_count": 115,
      "outputs": []
    },
    {
      "cell_type": "code",
      "source": [
        "model = tf.saved_model.load('/content')\n",
        "signatures = list(model.signatures.keys())\n",
        "print(signatures)"
      ],
      "metadata": {
        "colab": {
          "base_uri": "https://localhost:8080/"
        },
        "id": "FBqnsyJUn4SN",
        "outputId": "32458570-7df5-4b43-e017-ff7f8bcadd8e"
      },
      "execution_count": 109,
      "outputs": [
        {
          "output_type": "stream",
          "name": "stdout",
          "text": [
            "['serving_default']\n"
          ]
        }
      ]
    },
    {
      "cell_type": "code",
      "source": [
        "plt.imshow(cv2.cvtColor(e_f[0], cv2.COLOR_BGR2RGB))"
      ],
      "metadata": {
        "colab": {
          "base_uri": "https://localhost:8080/",
          "height": 322
        },
        "id": "A_mrjpttty_3",
        "outputId": "25dc2823-03fa-4ae6-b955-db1618566595"
      },
      "execution_count": 116,
      "outputs": [
        {
          "output_type": "error",
          "ename": "error",
          "evalue": "ignored",
          "traceback": [
            "\u001b[0;31m---------------------------------------------------------------------------\u001b[0m",
            "\u001b[0;31merror\u001b[0m                                     Traceback (most recent call last)",
            "\u001b[0;32m<ipython-input-116-ee8c13e90dbc>\u001b[0m in \u001b[0;36m<cell line: 1>\u001b[0;34m()\u001b[0m\n\u001b[0;32m----> 1\u001b[0;31m \u001b[0mplt\u001b[0m\u001b[0;34m.\u001b[0m\u001b[0mimshow\u001b[0m\u001b[0;34m(\u001b[0m\u001b[0mcv2\u001b[0m\u001b[0;34m.\u001b[0m\u001b[0mcvtColor\u001b[0m\u001b[0;34m(\u001b[0m\u001b[0me_f\u001b[0m\u001b[0;34m[\u001b[0m\u001b[0;36m0\u001b[0m\u001b[0;34m]\u001b[0m\u001b[0;34m,\u001b[0m \u001b[0mcv2\u001b[0m\u001b[0;34m.\u001b[0m\u001b[0mCOLOR_BGR2RGB\u001b[0m\u001b[0;34m)\u001b[0m\u001b[0;34m)\u001b[0m\u001b[0;34m\u001b[0m\u001b[0;34m\u001b[0m\u001b[0m\n\u001b[0m",
            "\u001b[0;31merror\u001b[0m: OpenCV(4.8.0) /io/opencv/modules/imgproc/src/color.simd_helpers.hpp:94: error: (-2:Unspecified error) in function 'cv::impl::{anonymous}::CvtHelper<VScn, VDcn, VDepth, sizePolicy>::CvtHelper(cv::InputArray, cv::OutputArray, int) [with VScn = cv::impl::{anonymous}::Set<3, 4>; VDcn = cv::impl::{anonymous}::Set<3, 4>; VDepth = cv::impl::{anonymous}::Set<0, 2, 5>; cv::impl::{anonymous}::SizePolicy sizePolicy = cv::impl::<unnamed>::NONE; cv::InputArray = const cv::_InputArray&; cv::OutputArray = const cv::_OutputArray&]'\n> Unsupported depth of input image:\n>     'VDepth::contains(depth)'\n> where\n>     'depth' is 6 (CV_64F)\n"
          ]
        }
      ]
    },
    {
      "cell_type": "code",
      "source": [
        "e_f[0]/255.0"
      ],
      "metadata": {
        "colab": {
          "base_uri": "https://localhost:8080/"
        },
        "id": "K1FZhbXzuZib",
        "outputId": "5baa168b-e18d-4793-9850-7d4d419d57ca"
      },
      "execution_count": 119,
      "outputs": [
        {
          "output_type": "execute_result",
          "data": {
            "text/plain": [
              "array([[[3.07574010e-03, 3.19876970e-03, 2.98346790e-03],\n",
              "        [3.13725490e-03, 3.24490581e-03, 3.13725490e-03],\n",
              "        [3.29104191e-03, 3.36793541e-03, 3.26028451e-03],\n",
              "        ...,\n",
              "        [1.44559785e-03, 2.02998847e-03, 7.22798923e-04],\n",
              "        [1.43021915e-03, 1.99923106e-03, 3.69088812e-04],\n",
              "        [1.49173395e-03, 2.10688197e-03, 4.61361015e-05]],\n",
              "\n",
              "       [[3.09111880e-03, 3.13725490e-03, 2.92195309e-03],\n",
              "        [3.16801230e-03, 3.19876970e-03, 3.01422530e-03],\n",
              "        [3.22952710e-03, 3.26028451e-03, 3.06036140e-03],\n",
              "        ...,\n",
              "        [1.41484045e-03, 1.96847366e-03, 8.76585928e-04],\n",
              "        [1.44559785e-03, 1.99923106e-03, 5.99769319e-04],\n",
              "        [1.49173395e-03, 2.10688197e-03, 1.69165705e-04]],\n",
              "\n",
              "       [[3.19876970e-03, 3.16801230e-03, 2.92195309e-03],\n",
              "        [3.22952710e-03, 3.21414840e-03, 2.93733180e-03],\n",
              "        [3.24490581e-03, 3.26028451e-03, 3.01422530e-03],\n",
              "        ...,\n",
              "        [1.35332564e-03, 1.87620146e-03, 9.38100730e-04],\n",
              "        [1.38408304e-03, 1.95309496e-03, 7.84313725e-04],\n",
              "        [1.49173395e-03, 2.07612457e-03, 4.61361015e-04]],\n",
              "\n",
              "       ...,\n",
              "\n",
              "       [[2.41445598e-03, 2.35294118e-03, 1.23029604e-03],\n",
              "        [2.49134948e-03, 2.38369858e-03, 1.27643214e-03],\n",
              "        [2.49134948e-03, 2.38369858e-03, 1.27643214e-03],\n",
              "        ...,\n",
              "        [1.90695886e-03, 2.35294118e-03, 1.46097655e-03],\n",
              "        [1.95309496e-03, 2.41445598e-03, 1.46097655e-03],\n",
              "        [1.87620146e-03, 2.33756248e-03, 1.36870434e-03]],\n",
              "\n",
              "       [[2.47597078e-03, 2.36831988e-03, 1.26105344e-03],\n",
              "        [2.47597078e-03, 2.36831988e-03, 1.26105344e-03],\n",
              "        [2.49134948e-03, 2.38369858e-03, 1.27643214e-03],\n",
              "        ...,\n",
              "        [1.98385236e-03, 2.41445598e-03, 1.52249135e-03],\n",
              "        [1.96847366e-03, 2.39907728e-03, 1.49173395e-03],\n",
              "        [1.96847366e-03, 2.39907728e-03, 1.46097655e-03]],\n",
              "\n",
              "       [[2.47597078e-03, 2.36831988e-03, 1.26105344e-03],\n",
              "        [2.46059208e-03, 2.35294118e-03, 1.24567474e-03],\n",
              "        [2.46059208e-03, 2.35294118e-03, 1.24567474e-03],\n",
              "        ...,\n",
              "        [1.99923106e-03, 2.42983468e-03, 1.53787005e-03],\n",
              "        [1.98385236e-03, 2.41445598e-03, 1.50711265e-03],\n",
              "        [1.95309496e-03, 2.38369858e-03, 1.44559785e-03]]])"
            ]
          },
          "metadata": {},
          "execution_count": 119
        }
      ]
    },
    {
      "cell_type": "code",
      "source": [
        "pn = ['Tomato Healthy', 'Tomato Septoria Leaf Spot', 'Tomato Bacterial Spot', 'Tomato Blight', 'Cabbage Healthy', 'Tomato Spider Mite', 'Tomato Leaf Mold', 'Tomato_Yellow Leaf Curl Virus', 'Soy_Frogeye_Leaf_Spot', 'Soy_Downy_Mildew', 'Maize_Ravi_Corn_Rust', 'Maize_Healthy', 'Maize_Grey_Leaf_Spot', 'Maize_Lethal_Necrosis', 'Soy_Healthy', 'Cabbage Black Rot']"
      ],
      "metadata": {
        "id": "2AgCaLBQs0x0"
      },
      "execution_count": 120,
      "outputs": []
    },
    {
      "cell_type": "code",
      "source": [
        "e = cv2.imread(r\"/content/maize.png\")\n",
        "e_r = cv2.cvtColor(cv2.resize(e, (300, 300)), cv2.COLOR_BGR2RGB)/255.0\n",
        "e_f = np.expand_dims(e_r, axis=0)\n",
        "print(e_f.shape)\n",
        "infer = model.signatures['serving_default']\n",
        "\n",
        "# Assuming 'input_data' is your prepared input data tensor\n",
        "tensor = tf.convert_to_tensor(e_f)\n",
        "float_tensor = tf.cast(tensor, dtype=tf.float32)\n",
        "output_data = infer(float_tensor)\n",
        "\n",
        "pn[np.argmax(output_data[\"dense_1\"][0])]"
      ],
      "metadata": {
        "colab": {
          "base_uri": "https://localhost:8080/",
          "height": 53
        },
        "id": "8yOM21e5o_jn",
        "outputId": "5ab2fccd-d63b-422e-c714-7e7dd87ffb54"
      },
      "execution_count": 133,
      "outputs": [
        {
          "output_type": "stream",
          "name": "stdout",
          "text": [
            "(1, 300, 300, 3)\n"
          ]
        },
        {
          "output_type": "execute_result",
          "data": {
            "text/plain": [
              "'Maize_Healthy'"
            ],
            "application/vnd.google.colaboratory.intrinsic+json": {
              "type": "string"
            }
          },
          "metadata": {},
          "execution_count": 133
        }
      ]
    },
    {
      "cell_type": "code",
      "source": [
        "output_data[\"dense_1\"][0]"
      ],
      "metadata": {
        "colab": {
          "base_uri": "https://localhost:8080/"
        },
        "id": "js9dZPec4OhD",
        "outputId": "b10b74c3-c2a1-4704-b316-d93b66d60667"
      },
      "execution_count": 132,
      "outputs": [
        {
          "output_type": "execute_result",
          "data": {
            "text/plain": [
              "<tf.Tensor: shape=(16,), dtype=float32, numpy=\n",
              "array([0.17216952, 0.02294196, 0.02271692, 0.018627  , 0.0102324 ,\n",
              "       0.01028759, 0.12588784, 0.00691381, 0.00624391, 0.00205372,\n",
              "       0.04402184, 0.5124458 , 0.00828663, 0.02219902, 0.00194593,\n",
              "       0.01302609], dtype=float32)>"
            ]
          },
          "metadata": {},
          "execution_count": 132
        }
      ]
    },
    {
      "cell_type": "code",
      "source": [
        "output_data"
      ],
      "metadata": {
        "colab": {
          "base_uri": "https://localhost:8080/"
        },
        "id": "cltJSIJs4OpV",
        "outputId": "ed0104f3-6f8a-473d-9063-e070046481eb"
      },
      "execution_count": 134,
      "outputs": [
        {
          "output_type": "execute_result",
          "data": {
            "text/plain": [
              "{'dense_1': <tf.Tensor: shape=(1, 16), dtype=float32, numpy=\n",
              " array([[0.17216952, 0.02294196, 0.02271692, 0.018627  , 0.0102324 ,\n",
              "         0.01028759, 0.12588784, 0.00691381, 0.00624391, 0.00205372,\n",
              "         0.04402184, 0.5124458 , 0.00828663, 0.02219902, 0.00194593,\n",
              "         0.01302609]], dtype=float32)>}"
            ]
          },
          "metadata": {},
          "execution_count": 134
        }
      ]
    },
    {
      "cell_type": "code",
      "source": [
        "def load_model(model_path: str):\n",
        "  model = tf.saved_model.load('/content')\n",
        "  signatures = list(model.signatures.keys())\n",
        "  return model, signatures"
      ],
      "metadata": {
        "id": "rC4VQf5p5Vr5"
      },
      "execution_count": 135,
      "outputs": []
    },
    {
      "cell_type": "code",
      "source": [
        "\n",
        "  pn = ['Tomato Healthy', 'Tomato Septoria Leaf Spot', 'Tomato Bacterial Spot', 'Tomato Blight', 'Cabbage Healthy', 'Tomato Spider Mite', 'Tomato Leaf Mold', 'Tomato_Yellow Leaf Curl Virus', 'Soy_Frogeye_Leaf_Spot', 'Soy_Downy_Mildew', 'Maize_Ravi_Corn_Rust', 'Maize_Healthy', 'Maize_Grey_Leaf_Spot', 'Maize_Lethal_Necrosis', 'Soy_Healthy', 'Cabbage Black Rot']\n",
        "\n",
        "  e = cv2.imread(r\"/content/maize.png\")\n",
        "  e_r = cv2.cvtColor(cv2.resize(e, (300, 300)), cv2.COLOR_BGR2RGB)/255.0\n",
        "  e_f = np.expand_dims(e_r, axis=0)\n",
        "  print(e_f.shape)\n",
        "  infer = model.signatures['serving_default']\n",
        "\n",
        "  # Assuming 'input_data' is your prepared input data tensor\n",
        "  tensor = tf.convert_to_tensor(e_f)\n",
        "  float_tensor = tf.cast(tensor, dtype=tf.float32)\n",
        "  output_data = infer(float_tensor)\n",
        "\n",
        "  pn[np.argmax(output_data[\"dense_1\"][0])]\n",
        ""
      ],
      "metadata": {
        "colab": {
          "base_uri": "https://localhost:8080/",
          "height": 53
        },
        "id": "IeaXgEVP5CRo",
        "outputId": "f2c5b7c0-e9eb-4d08-e41d-21130fc2d84c"
      },
      "execution_count": 136,
      "outputs": [
        {
          "output_type": "stream",
          "name": "stdout",
          "text": [
            "(1, 300, 300, 3)\n"
          ]
        },
        {
          "output_type": "execute_result",
          "data": {
            "text/plain": [
              "'Maize_Healthy'"
            ],
            "application/vnd.google.colaboratory.intrinsic+json": {
              "type": "string"
            }
          },
          "metadata": {},
          "execution_count": 136
        }
      ]
    },
    {
      "cell_type": "code",
      "source": [
        "# the function for the maize prediction\n",
        "def image_pred(file_path: str, model):\n",
        "\n",
        "  plant_names = ['Tomato Healthy', 'Tomato Septoria Leaf Spot', 'Tomato Bacterial Spot', 'Tomato Blight', 'Cabbage Healthy', 'Tomato Spider Mite', 'Tomato Leaf Mold', 'Tomato_Yellow Leaf Curl Virus', 'Soy_Frogeye_Leaf_Spot', 'Soy_Downy_Mildew', 'Maize_Ravi_Corn_Rust', 'Maize_Healthy', 'Maize_Grey_Leaf_Spot', 'Maize_Lethal_Necrosis', 'Soy_Healthy', 'Cabbage Black Rot']\n",
        "# e = image_name\n",
        "  image_name = cv2.imread(r\"/content/maize.png\")\n",
        "# e_r = resized image + rgb image\n",
        "  e_r = cv2.cvtColor(cv2.resize(e, (300, 300)), cv2.COLOR_BGR2RGB)/255.0\n",
        "# e_f = expanded_image\n",
        "  e_f = np.expand_dims(e_r, axis=0)\n",
        "  print(e_f.shape)\n",
        "\n",
        "\n",
        "  # Assuming 'input_data' is your prepared input data tensor\n",
        "  tensor = tf.convert_to_tensor(e_f)\n",
        "  float_tensor = tf.cast(tensor, dtype=tf.float32)\n",
        "\n",
        "  infer = model.signatures['serving_default']\n",
        "  output_data = infer(float_tensor)\n",
        "\n",
        "  predicted_health = pn[np.argmax(output_data[\"dense_1\"][0])]\n",
        "  return predicted_health, max(output_data[\"dense_1\"][0])\n"
      ],
      "metadata": {
        "id": "BPhgKXL1874i"
      },
      "execution_count": 143,
      "outputs": []
    },
    {
      "cell_type": "code",
      "source": [
        "image_pred('/content/colored corn.webp', model)"
      ],
      "metadata": {
        "colab": {
          "base_uri": "https://localhost:8080/"
        },
        "id": "3pfEm5gt_dv_",
        "outputId": "2f389ab8-8309-4f9f-b3e4-4292370ec06e"
      },
      "execution_count": 144,
      "outputs": [
        {
          "output_type": "stream",
          "name": "stdout",
          "text": [
            "(1, 300, 300, 3)\n"
          ]
        },
        {
          "output_type": "execute_result",
          "data": {
            "text/plain": [
              "('Maize_Healthy', <tf.Tensor: shape=(), dtype=float32, numpy=0.5124458>)"
            ]
          },
          "metadata": {},
          "execution_count": 144
        }
      ]
    },
    {
      "cell_type": "code",
      "source": [
        "# input is going to be file path and the output is going to be maize healthy"
      ],
      "metadata": {
        "id": "W_fG7-HN5F_G"
      },
      "execution_count": null,
      "outputs": []
    }
  ]
}